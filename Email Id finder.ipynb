{
 "cells": [
  {
   "cell_type": "code",
   "execution_count": 1,
   "metadata": {},
   "outputs": [],
   "source": [
    "from selenium import webdriver\n",
    "from selenium.webdriver.common.keys import Keys\n",
    "import time\n",
    "\n",
    "# IMPORTANT - Download chromedriver and paste it in C drive\n",
    "\n",
    "browser = webdriver.Chrome(executable_path=r\"C:\\chromedriver.exe\")\n",
    "browser.get(\"https://www.google.com\") "
   ]
  },
  {
   "cell_type": "code",
   "execution_count": 2,
   "metadata": {},
   "outputs": [
    {
     "name": "stdout",
     "output_type": "stream",
     "text": [
      "mail@xyzcomapany.com\n"
     ]
    }
   ],
   "source": [
    "company_email_id=str(input())"
   ]
  },
  {
   "cell_type": "code",
   "execution_count": 3,
   "metadata": {},
   "outputs": [],
   "source": [
    "element = browser.find_element_by_name(\"q\")\n",
    "element.send_keys(str(company_email_id))\n",
    "element.submit()"
   ]
  },
  {
   "cell_type": "code",
   "execution_count": 4,
   "metadata": {},
   "outputs": [
    {
     "name": "stdout",
     "output_type": "stream",
     "text": [
      "mail.xyzco.com:janes:global:jsmith@xyzco.com.\n",
      "johnsmith@xyzcompany.com,\n",
      "fromithelpdesk@xyzcompany.comthey\n",
      "johnsmith@xyzcompany.com\n",
      "<email>gthompson@xyzcompany.com</email>.\n",
      "(abc@xyzcompany.com)\n",
      "sales@xyzcompany.com\n",
      "ajones@xyzco.com\n",
      "AORTIZ@XYZCO\n",
      "(Johnkeith@xyzcompany.com)\n",
      "(Johnkeith@abccorp.com)\n",
      "firstname.lastname@xyzco.com',\n",
      "powerbi.admin@xyzcompany.com\n",
      "john@xyzcompany.com,\n",
      "myname@xyzcompany.com\n",
      "joe@xyzcompany.com,\n",
      "contact@XYZCompany.com\n",
      "sales@xyzcompany.com\n",
      "info@xyzco.com,\n",
      "“info@xyzcompany.com”\n",
      "person1@xyzcompany.com,Jane\n",
      "person2@xyzcompany.com,\n",
      "support@xyzcompany.com,\n",
      "\"JSmith@XYZCompany.com\").\n",
      "example@xyzcompany.com\n",
      "jowner@xyzco.com.\n",
      "no-reply@xyzcompany.com\n",
      "rohit@xyzcompany.com,david@xyzcompany.com\n",
      "mail@flg/xyzco/unique\n",
      "urgent@xyzcompany.com\n",
      "employmeny@xyzcompany.com.\n",
      "XYZcompany@mail.\n",
      "abc@xyzco.com\n",
      "yourname@xyzcompany.com.\n",
      "emailaddress@xyzcompany.com.\n",
      "example@xyzcompany.\n",
      "info@xyzcompany.com\n",
      "myemployee@xyzcompany.com\n",
      "Smith@XYZCompany.com,\n",
      "info@XYZCompany.com.\n",
      "Bob@ABCCompany.com,\n",
      "Bob@XYZCompany.com.\n",
      "joe.smith@xyzcompany.com,\n",
      "abc@xyzcompany.com.\n",
      "pr@xyzco.\n",
      "john@xyzcompany.com,\n",
      "jane@xyzcompany.com,\n",
      "'xyz@xyzcompany.ccsend.com'\n",
      "bclark@xyzcompany.com.\n",
      "xxxxxxx@xyzcompany.com\n",
      "x******@tower-bersama.com\n",
      "\"orders@xyzcompany.com.\n",
      "client@xyzcompany.com.\n",
      "sam@abccompany.com\n",
      "marcie@xyzcompany.com>:\n",
      "Brandon.avants@XYZcompany.com.\n",
      "ceo@xyzcompany.com.\n",
      "firstname.lastname@xyzcompany.com.\n",
      "\"customerservice@xyzCompany.com\",\n",
      "\"@xyzcompany.com\"\n",
      "XYZcompany.seo@gmail.com\n",
      "mvp@xyzco.com\n",
      "(e.g.john.smith@xyzcompany.com)\n"
     ]
    }
   ],
   "source": [
    "import requests\n",
    "from bs4 import BeautifulSoup\n",
    "import re \n",
    "\n",
    "for i in range(1,10):\n",
    "    url=str(browser.current_url)\n",
    "    r = requests.get(url)\n",
    "    soup=BeautifulSoup(r.content, \"html.parser\")\n",
    "    g_data =soup.find_all(\"span\",{\"class\":\"st\"})\n",
    "    for item in g_data:\n",
    "        s= item.text\n",
    "        f = re.findall('\\S+@\\S+', s)  \n",
    "        for email in f:               \n",
    "            print(email)\n",
    "    browser.find_element_by_xpath('//*[@id=\"pnnext\"]').click()"
   ]
  },
  {
   "cell_type": "code",
   "execution_count": null,
   "metadata": {},
   "outputs": [],
   "source": []
  }
 ],
 "metadata": {
  "kernelspec": {
   "display_name": "Python 3",
   "language": "python",
   "name": "python3"
  },
  "language_info": {
   "codemirror_mode": {
    "name": "ipython",
    "version": 3
   },
   "file_extension": ".py",
   "mimetype": "text/x-python",
   "name": "python",
   "nbconvert_exporter": "python",
   "pygments_lexer": "ipython3",
   "version": "3.5.0"
  }
 },
 "nbformat": 4,
 "nbformat_minor": 2
}
