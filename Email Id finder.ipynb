{
 "cells": [
  {
   "cell_type": "code",
   "execution_count": 1,
   "metadata": {},
   "outputs": [],
   "source": [
    "from selenium import webdriver\n",
    "from selenium.webdriver.common.keys import Keys\n",
    "import time\n",
    "\n",
    "# IMPORTANT - Download chromedriver and paste it in C drive\n",
    "\n",
    "browser = webdriver.Chrome(executable_path=r\"C:\\chromedriver.exe\")\n",
    "browser.get(\"https://www.google.com\") "
   ]
  },
  {
   "cell_type": "code",
   "execution_count": 2,
   "metadata": {},
   "outputs": [
    {
     "name": "stdout",
     "output_type": "stream",
     "text": [
      "mail@wipro.com\n"
     ]
    }
   ],
   "source": [
    "company_email_id=str(input())"
   ]
  },
  {
   "cell_type": "code",
   "execution_count": 3,
   "metadata": {},
   "outputs": [],
   "source": [
    "element = browser.find_element_by_name(\"q\")\n",
    "element.send_keys(str(company_email_id))\n",
    "element.submit()"
   ]
  },
  {
   "cell_type": "code",
   "execution_count": 4,
   "metadata": {},
   "outputs": [
    {
     "name": "stdout",
     "output_type": "stream",
     "text": [
      "agrawal.saurabh@wipro.\n",
      "jasvir.yadav@wipro.\n",
      "ashim.ghosh@wipro.\n",
      "ahiri@wipro.com\n",
      "ashok.mittal@wipro.com\n",
      "esic.alert@wipro.com\n",
      "sanjay.varma@wipro.com.\n",
      "harsha.kestur@wipro.com\n",
      "Michael.wiederstein@wipro.com.\n",
      "vivek.vaid@wipro.com\n",
      "joining.documents@wipro.com\n",
      "wipro.vendorhelpdesk@wipro.com\n",
      "Careers@Wipro,\n",
      "sanaulla.khan@wipro.com.\n",
      "pf@wipro.\n",
      "putul.mathur@wipro.com.\n",
      "jane.doe@wipro.com)\n",
      "wipro.vendorhelpdesk@wipro.com\n",
      "wipro.insights@wipro.com\n",
      "upasana.rajaram@wipro.com>.\n",
      "b.ajaaykiran@wipr...See\n",
      "communications.wel@wipro.com,\n",
      "tcon.helpdesk@wipro.com.\n",
      "pf@wipro.com\n",
      "poland@wipro.com.\n",
      "<shock...@yahoo.co.in>\n",
      "mgrai-sel@airindia.co.kr.\n",
      "alchemist@alchemymold.com\n",
      "kiyoung.jang@wipro.com.\n",
      "feedback.wcc@wipro.com\n",
      "mail:sales@moveinsync.com\n"
     ]
    }
   ],
   "source": [
    "import requests\n",
    "from bs4 import BeautifulSoup\n",
    "import re \n",
    "\n",
    "for i in range(1,10):\n",
    "    url=str(browser.current_url)\n",
    "    r = requests.get(url)\n",
    "    soup=BeautifulSoup(r.content, \"html.parser\")\n",
    "    g_data =soup.find_all(\"span\",{\"class\":\"st\"})\n",
    "    for item in g_data:\n",
    "        s= item.text\n",
    "        f = re.findall('\\S+@\\S+', s)  \n",
    "        for email in f:               \n",
    "            print(email)\n",
    "    browser.find_element_by_xpath('//*[@id=\"pnnext\"]').click()"
   ]
  },
  {
   "cell_type": "code",
   "execution_count": null,
   "metadata": {},
   "outputs": [],
   "source": []
  }
 ],
 "metadata": {
  "kernelspec": {
   "display_name": "Python 3",
   "language": "python",
   "name": "python3"
  },
  "language_info": {
   "codemirror_mode": {
    "name": "ipython",
    "version": 3
   },
   "file_extension": ".py",
   "mimetype": "text/x-python",
   "name": "python",
   "nbconvert_exporter": "python",
   "pygments_lexer": "ipython3",
   "version": "3.5.0"
  }
 },
 "nbformat": 4,
 "nbformat_minor": 2
}
