{
 "cells": [
  {
   "cell_type": "code",
   "execution_count": 1,
   "metadata": {},
   "outputs": [],
   "source": [
    "from selenium import webdriver\n",
    "from selenium.webdriver.common.keys import Keys\n",
    "import time\n",
    "browser = webdriver.Chrome(executable_path=r\"C:\\chromedriver.exe\")\n",
    "browser.get(\"https://www.google.com\") "
   ]
  },
  {
   "cell_type": "code",
   "execution_count": 2,
   "metadata": {},
   "outputs": [
    {
     "name": "stdout",
     "output_type": "stream",
     "text": [
      "mail@wipro.com\n"
     ]
    }
   ],
   "source": [
    "company_email_id=str(input())"
   ]
  },
  {
   "cell_type": "code",
   "execution_count": 3,
   "metadata": {},
   "outputs": [],
   "source": [
    "element = browser.find_element_by_name(\"q\")\n",
    "element.send_keys(str(company_email_id))\n",
    "element.submit()"
   ]
  },
  {
   "cell_type": "code",
   "execution_count": 4,
   "metadata": {
    "collapsed": true
   },
   "outputs": [
    {
     "name": "stdout",
     "output_type": "stream",
     "text": [
      "agrawal.saurabh@wipro.\n",
      "jasvir.yadav@wipro.\n",
      "ashim.ghosh@wipro.\n",
      "ahiri@wipro.com\n",
      "ashok.mittal@wipro.com\n",
      "esic.alert@wipro.com\n",
      "sanjay.varma@wipro.com.\n",
      "harsha.kestur@wipro.com\n",
      "Michael.wiederstein@wipro.com.\n",
      "vivek.vaid@wipro.com\n",
      "joining.documents@wipro.com\n",
      "wipro.vendorhelpdesk@wipro.com\n",
      "Careers@Wipro,\n",
      "sanaulla.khan@wipro.com.\n",
      "pf@wipro.\n",
      "putul.mathur@wipro.com.\n",
      "jane.doe@wipro.com)\n",
      "wipro.vendorhelpdesk@wipro.com\n",
      "wipro.insights@wipro.com\n",
      "upasana.rajaram@wipro.com>.\n",
      "b.ajaaykiran@wipr...See\n",
      "communications.wel@wipro.com,\n",
      "tcon.helpdesk@wipro.com.\n",
      "pf@wipro.com\n",
      "poland@wipro.com.\n",
      "<shock...@yahoo.co.in>\n",
      "mgrai-sel@airindia.co.kr.\n",
      "alchemist@alchemymold.com\n",
      "kiyoung.jang@wipro.com.\n",
      "feedback.wcc@wipro.com\n",
      "mail:sales@moveinsync.com\n"
     ]
    }
   ],
   "source": [
    "import requests\n",
    "from bs4 import BeautifulSoup\n",
    "import re \n",
    "\n",
    "for i in range(1,10):\n",
    "    url=str(browser.current_url)\n",
    "    r = requests.get(url)\n",
    "    soup=BeautifulSoup(r.content, \"html.parser\")\n",
    "    g_data =soup.find_all(\"span\",{\"class\":\"st\"})\n",
    "    for item in g_data:\n",
    "        s= item.text\n",
    "        f = re.findall('\\S+@\\S+', s)  \n",
    "        for email in f:               \n",
    "            print(email)\n",
    "    browser.find_element_by_xpath('//*[@id=\"pnnext\"]').click()"
   ]
  },
  {
   "cell_type": "code",
   "execution_count": 1,
   "metadata": {},
   "outputs": [
    {
     "name": "stdout",
     "output_type": "stream",
     "text": [
      "mail@wipro.com\n",
      "pf@wipro.com.\n",
      "ashim.ghosh@wipro.\n",
      "ahiri@wipro.com\n",
      "ashok.mittal@wipro.com\n",
      "esic.alert@wipro.com\n",
      "vivek.vaid@wipro.com\n",
      "Ramesh2@protonmail.com.The\n",
      "harsha.kestur@wipro.com\n",
      "joining.documents@wipro.com\n",
      "Careers@Wipro,\n",
      "prince.singh1@wipro.com.\n",
      "pf@wipro.\n",
      "sanaulla.khan@wipro.com.\n",
      "upasana.rajaram@wipro.com>.\n",
      "b.ajaaykiran@wipr...See\n",
      "pf@wipro.com\n",
      "sir.lancelot@potatobake.com'\n",
      "mgrai-sel@airindia.co.kr.\n",
      "alchemist@alchemymold.com\n",
      "kiyoung.jang@wipro.com.\n",
      "goel@wipro.com,\n",
      "mail:sales@moveinsync.com\n",
      "sanjay.gupta5@wipro.com.\n",
      "mail@aquaprincess\n",
      "josefine.luther@wipro.com\n",
      "1converse@sonotech-inc.com.\n",
      "3starplast@gmail.com.\n"
     ]
    }
   ],
   "source": [
    "from selenium import webdriver\n",
    "from selenium.webdriver.common.keys import Keys\n",
    "import time\n",
    "import requests\n",
    "from bs4 import BeautifulSoup\n",
    "import re\n",
    "\n",
    "browser = webdriver.Chrome(executable_path=r\"C:\\chromedriver.exe\")\n",
    "browser.get(\"https://www.google.com\")\n",
    "company_email_id=str(input())\n",
    "element = browser.find_element_by_name(\"q\")\n",
    "element.send_keys(str(company_email_id))\n",
    "element.submit()\n",
    "\n",
    "for i in range(1,10):\n",
    "    url=str(browser.current_url)\n",
    "    r = requests.get(url)\n",
    "    soup=BeautifulSoup(r.content, \"html.parser\")\n",
    "    g_data =soup.find_all(\"span\",{\"class\":\"st\"})\n",
    "    for item in g_data:\n",
    "        s= item.text\n",
    "        f = re.findall('\\S+@\\S+', s)  \n",
    "        for email in f:               \n",
    "            print(email)\n",
    "    browser.find_element_by_xpath('//*[@id=\"pnnext\"]').click()\n"
   ]
  },
  {
   "cell_type": "code",
   "execution_count": 5,
   "metadata": {},
   "outputs": [
    {
     "name": "stdout",
     "output_type": "stream",
     "text": [
      "c:\\users\\vibhor\\appdata\\local\\programs\\python\\python35\\python.exe\n"
     ]
    }
   ],
   "source": [
    "import sys\n",
    "print(sys.executable)"
   ]
  },
  {
   "cell_type": "code",
   "execution_count": null,
   "metadata": {},
   "outputs": [],
   "source": []
  },
  {
   "cell_type": "markdown",
   "metadata": {},
   "source": [
    "# Testing Part\n"
   ]
  },
  {
   "cell_type": "code",
   "execution_count": 39,
   "metadata": {},
   "outputs": [
    {
     "name": "stdout",
     "output_type": "stream",
     "text": [
      "https://www.google.com/search?source=hp&ei=3hEeW5D7IoL69QP4-62gCg&q=mail%40wipro.com&oq=&gs_l=\n"
     ]
    }
   ],
   "source": [
    "print(browser.current_url)"
   ]
  },
  {
   "cell_type": "code",
   "execution_count": 41,
   "metadata": {},
   "outputs": [
    {
     "name": "stdout",
     "output_type": "stream",
     "text": [
      "vivek.vaid@wipro.com\n",
      "harsha.kestur@wipro.com\n",
      "Careers@Wipro,\n",
      "prince.singh1@wipro.com.\n",
      "joining.documents@wipro.com\n",
      "pf@wipro.\n",
      "sanaulla.khan@wipro.com.\n",
      "jane.doe@wipro.com)\n",
      "wipro.vendorhelpdesk@wipro.com\n",
      "upasana.rajaram@wipro.com>.\n",
      "feedback.wcc@wipro.com\n",
      "pf@wipro.com\n",
      "wipro.technologies@wipro.com\n",
      "wipro.vendorhelpdesk@wipro.com\n"
     ]
    }
   ],
   "source": [
    "import requests\n",
    "from bs4 import BeautifulSoup\n",
    "import re \n",
    "\n",
    "for i in range(1,8):\n",
    "    url=str(browser.current_url)\n",
    "    r = requests.get(url)\n",
    "    soup=BeautifulSoup(r.content, \"html.parser\")\n",
    "    g_data =soup.find_all(\"span\",{\"class\":\"st\"})\n",
    "    for item in g_data:\n",
    "        s= item.text\n",
    "        f = re.findall('\\S+@\\S+', s)  \n",
    "        for email in f:               \n",
    "            print(email)\n",
    "    browser.find_element_by_xpath('//*[@id=\"pnnext\"]').click()\n"
   ]
  },
  {
   "cell_type": "code",
   "execution_count": null,
   "metadata": {},
   "outputs": [],
   "source": []
  },
  {
   "cell_type": "code",
   "execution_count": null,
   "metadata": {},
   "outputs": [],
   "source": []
  },
  {
   "cell_type": "code",
   "execution_count": null,
   "metadata": {},
   "outputs": [],
   "source": []
  },
  {
   "cell_type": "code",
   "execution_count": null,
   "metadata": {},
   "outputs": [],
   "source": []
  },
  {
   "cell_type": "code",
   "execution_count": null,
   "metadata": {},
   "outputs": [],
   "source": []
  },
  {
   "cell_type": "code",
   "execution_count": null,
   "metadata": {},
   "outputs": [],
   "source": []
  },
  {
   "cell_type": "code",
   "execution_count": null,
   "metadata": {},
   "outputs": [],
   "source": []
  }
 ],
 "metadata": {
  "kernelspec": {
   "display_name": "Python 3",
   "language": "python",
   "name": "python3"
  },
  "language_info": {
   "codemirror_mode": {
    "name": "ipython",
    "version": 3
   },
   "file_extension": ".py",
   "mimetype": "text/x-python",
   "name": "python",
   "nbconvert_exporter": "python",
   "pygments_lexer": "ipython3",
   "version": "3.5.0"
  }
 },
 "nbformat": 4,
 "nbformat_minor": 2
}
